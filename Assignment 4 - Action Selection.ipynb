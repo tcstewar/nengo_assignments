{
 "cells": [
  {
   "cell_type": "markdown",
   "metadata": {},
   "source": [
    "# Nengo Assignment 4 - Action Selection"
   ]
  },
  {
   "cell_type": "markdown",
   "metadata": {},
   "source": [
    "##3.1: Tutorials\n",
    "\n",
    "In Nengo GUI, if you click on the \"open\" icon in the top-left and select ```built-in examples``` and then ```tutorial``` you will find a list of tutorial models that cover a wide variety of Nengo functionality.  For this assignment, first do tutorials 20, 21, 22, and 25."
   ]
  },
  {
   "cell_type": "markdown",
   "metadata": {},
   "source": [
    "##3.2: Storing Information\n",
    "\n",
    "Build a SPA model with two ```spa.State``` objects called `input` and `memory`.  Use 32 dimensions.  For the `memory`, set ```feedback=1``` so that it will act as a working memory.\n",
    "\n",
    "Now add a BasalGanglia and Thalamus that implement the following two actions:\n",
    "\n",
    "```python\n",
    "    with spa.ActionSelection():\n",
    "        spa.ifmax(spa.dot(input, s.HELLO), input >> memory)\n",
    "        spa.ifmax(0.5)\n",
    "```\n",
    "\n",
    "The first action says that if the input is something close to HELLO, then send that input into the memory.  The second action says that if none of the other actions is above 0.5, then do nothing.\n",
    "\n",
    "What happens if you feed HELLO into the input?\n",
    "\n",
    "Now feed BYE into the input.  What happens?\n",
    "\n",
    "What happens if you feed HELLO+WORLD into the input?"
   ]
  },
  {
   "cell_type": "markdown",
   "metadata": {},
   "source": [
    "##3.2: Selective Storage\n",
    "\n",
    "Instead of just having one memory, create two different memories; one for verbs and one for objects.\n",
    "\n",
    "Now create new actions for handling verbs and objects.  For example, the following actions will store the verb SAY and the verb WRITE in the verb memory.  Add actions for a few more verbs and objects.\n",
    "\n",
    "```\n",
    "spa.dot(input, s.SAY), input >> verb\n",
    "spa.dot(input, s.WRITE), input >> verb\n",
    "```\n",
    "\n"
   ]
  },
  {
   "cell_type": "markdown",
   "metadata": {
    "collapsed": true
   },
   "source": [
    "##3.3: Combining Actions\n",
    "\n",
    "Having one action per word is not going to scale well.  Since these actions have identical results, we should be able to combine them together.  Find a way to efficiently combine them into a single action.  \n",
    "\n",
    "(If you are stuck on this, look at the ```spa-parse``` tutorial example)\n",
    "\n",
    "What are the advantages of combining them in this way?  What are the disadvantages?"
   ]
  },
  {
   "cell_type": "markdown",
   "metadata": {},
   "source": [
    "##3.4: Performing Commands\n",
    "\n",
    "Instead of doing nothing when there is no input (the action ```spa.ifmax(0.5)```), add an action that will cause the system to send the ```object``` to a speech output ```spa.State``` if the verb is ```SAY```.  This will require adding a new ```spa.State``` called ```speech``` and adding a new Action."
   ]
  },
  {
   "cell_type": "code",
   "execution_count": null,
   "metadata": {
    "collapsed": true
   },
   "outputs": [],
   "source": []
  }
 ],
 "metadata": {
  "kernelspec": {
   "display_name": "Python 3",
   "language": "python",
   "name": "python3"
  },
  "language_info": {
   "codemirror_mode": {
    "name": "ipython",
    "version": 3
   },
   "file_extension": ".py",
   "mimetype": "text/x-python",
   "name": "python",
   "nbconvert_exporter": "python",
   "pygments_lexer": "ipython3",
   "version": "3.8.5"
  }
 },
 "nbformat": 4,
 "nbformat_minor": 1
}
